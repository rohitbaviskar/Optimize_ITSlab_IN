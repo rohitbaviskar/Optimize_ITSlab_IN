{
 "cells": [
  {
   "cell_type": "code",
   "execution_count": null,
   "id": "b519dbd6",
   "metadata": {},
   "outputs": [],
   "source": [
    "gross = int(input(\"Please Enter Gross Salary. This includes - Basic, HRA, DA, Allowances, Bonuses, etc.: Rs. \"))"
   ]
  },
  {
   "cell_type": "code",
   "execution_count": null,
   "id": "27724944",
   "metadata": {},
   "outputs": [],
   "source": [
    "tax0 = 0\n",
    "\n",
    "if gross < 500001:\n",
    "    tax5 = 0\n",
    "else:\n",
    "    tax5 = 250000 * 0.05\n",
    "    \n",
    "        \n",
    "if gross < 500001:\n",
    "    tax10 = 0\n",
    "else:\n",
    "    if gross > 500000 and gross < 750001:\n",
    "        tax10 = (gross - 500000)*0.1\n",
    "    else:\n",
    "        if gross > 750000:\n",
    "            tax10 = 250000 * 0.1\n",
    "            \n",
    "\n",
    "if gross < 750001:\n",
    "    tax15 = 0\n",
    "else:\n",
    "    if gross > 750000 and gross < 1000001:\n",
    "        tax15 = (gross - 750000) * 0.15\n",
    "    else:\n",
    "        if gross > 1000000:\n",
    "            tax15 = 250000 * 0.15\n",
    "\n",
    "\n",
    "if gross < 1000001:\n",
    "    tax20 = 0\n",
    "else:\n",
    "    if gross > 1000000 and gross < 1250001:\n",
    "        tax20 = (gross - 1000000)*0.2\n",
    "    else:\n",
    "        if gross > 1250000:\n",
    "            tax20 = 250000 * 0.2\n",
    "\n",
    "            \n",
    "if gross < 1250001:\n",
    "    tax25 = 0\n",
    "else:\n",
    "    if gross > 1250000 and gross < 1500001:\n",
    "        tax25 = (gross - 1250000)*0.25\n",
    "    else:\n",
    "        if gross > 1500000:\n",
    "            tax25 = 250000 * 0.25\n",
    "            \n",
    "\n",
    "if gross < 1500001:\n",
    "    tax30 = 0\n",
    "else:\n",
    "    tax30 = (gross - 1500000)*0.3\n",
    "\n",
    "        \n",
    "\n"
   ]
  },
  {
   "cell_type": "code",
   "execution_count": null,
   "id": "b382715c",
   "metadata": {},
   "outputs": [],
   "source": [
    "it_tax = tax30 + tax25 + tax20 + tax15 + tax10 + tax5 + tax0\n",
    "cess = it_tax * 0.04\n"
    "\n",
    "total_tax = it_tax + cess\n"
    "\n"
    "effective_tax_rate = round((total_tax/gross)*100, 2)"
   ]
  }
 ],
 "metadata": {
  "kernelspec": {
   "display_name": "Python 3",
   "language": "python",
   "name": "python3"
  },
  "language_info": {
   "codemirror_mode": {
    "name": "ipython",
    "version": 3
   },
   "file_extension": ".py",
   "mimetype": "text/x-python",
   "name": "python",
   "nbconvert_exporter": "python",
   "pygments_lexer": "ipython3",
   "version": "3.9.2"
  }
 },
 "nbformat": 4,
 "nbformat_minor": 5
}
