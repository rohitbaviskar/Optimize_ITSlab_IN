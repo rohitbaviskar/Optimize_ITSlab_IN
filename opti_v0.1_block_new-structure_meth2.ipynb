{
 "cells": [
  {
   "cell_type": "code",
   "execution_count": null,
   "id": "89991260",
   "metadata": {},
   "outputs": [],
   "source": [
    "gross = int(input(\"Please Enter Gross Salary. This includes - Basic, HRA, DA, Allowances, Bonuses, etc.: Rs. \"))"
   ]
  },
  {
   "cell_type": "code",
   "execution_count": null,
   "id": "5040558f",
   "metadata": {},
   "outputs": [],
   "source": [
    "if gross > 1500000:\n",
    "    tax30 = (gross - 1500000) * 0.3\n",
    "    tax25 = 250000 * 0.25\n",
    "    tax20 = 250000 * 0.20\n",
    "    tax15 = 250000 * 0.15\n",
    "    tax10 = 250000 * 0.10\n",
    "    tax5 = 250000 * 0.05\n",
    "    tax0 = 0\n",
    "else:\n",
    "    if gross < 1500000 and gross > 1250000:\n",
    "        tax30 = 0\n",
    "        tax25 = (gross - 1250000) * 0.25\n",
    "        tax20 = 250000 * 0.20\n",
    "        tax15 = 250000 * 0.15\n",
    "        tax10 = 250000 * 0.10\n",
    "        tax5 = 250000 * 0.05\n",
    "        tax0 = 0\n",
    "\n",
    "    else:\n",
    "        if gross < 1250000 and gross > 1000000:\n",
    "            tax30 = 0\n",
    "            tax25 = 0\n",
    "            tax20 = (gross - 1000000) * 0.20\n",
    "            tax15 = 250000 * 0.15\n",
    "            tax10 = 250000 * 0.10\n",
    "            tax5 = 250000 * 0.05\n",
    "            tax0 = 0\n",
    "\n",
    "        else:\n",
    "            if gross < 1000000 and gross > 750000:\n",
    "                tax30 = 0\n",
    "                tax25 = 0\n",
    "                tax20 = 0\n",
    "                tax15 = (gross - 750000) * 0.15\n",
    "                tax10 = 250000 * 0.10\n",
    "                tax5 = 250000 * 0.05\n",
    "                tax0 = 0\n",
    "\n",
    "            else:\n",
    "                if gross < 750000 and gross > 500000:\n",
    "                    tax30 = 0\n",
    "                    tax25 = 0\n",
    "                    tax20 = 0\n",
    "                    tax15 = 0\n",
    "                    tax10 = (gross - 500000) * 0.10\n",
    "                    tax5 = 250000 * 0.05\n",
    "                    tax0 = 0\n",
    "\n",
    "                else:\n",
    "                    if gross < 500000:\n",
    "                        tax30 = 0\n",
    "                        tax25 = 0\n",
    "                        tax20 = 0\n",
    "                        tax15 = 0\n",
    "                        tax10 = 0\n",
    "                        tax5 = 0\n",
    "                        tax0 = 0"
   ]
  },
  {
   "cell_type": "code",
   "execution_count": null,
   "id": "77c56396",
   "metadata": {},
   "outputs": [],
   "source": [
    "total_tax = tax30 + tax25 + tax20 + tax15 + tax10 + tax5 + tax0\n",
    "\n",
    "effective_tax_rate = round((total_tax/gross)*100, 2)"
   ]
  }
 ],
 "metadata": {
  "kernelspec": {
   "display_name": "Python 3",
   "language": "python",
   "name": "python3"
  },
  "language_info": {
   "codemirror_mode": {
    "name": "ipython",
    "version": 3
   },
   "file_extension": ".py",
   "mimetype": "text/x-python",
   "name": "python",
   "nbconvert_exporter": "python",
   "pygments_lexer": "ipython3",
   "version": "3.9.2"
  }
 },
 "nbformat": 4,
 "nbformat_minor": 5
}
